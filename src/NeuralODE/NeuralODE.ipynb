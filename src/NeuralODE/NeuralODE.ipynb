{
 "cells": [
  {
   "cell_type": "code",
   "execution_count": 6,
   "metadata": {
    "collapsed": true
   },
   "outputs": [],
   "source": [
    "import torch\n",
    "import matplotlib.pyplot as plt\n",
    "import numpy as np\n",
    "\n",
    "from torch import nn\n",
    "from tqdm import tqdm"
   ]
  },
  {
   "cell_type": "code",
   "execution_count": 7,
   "metadata": {
    "collapsed": true
   },
   "outputs": [],
   "source": [
    "def zip_map(zipped, update_op):\n",
    "    return [update_op(*elems) for elems in zipped]\n",
    "\n",
    "def euler_update(h_list, dh_list, dt):\n",
    "    return zip_map(zip(h_list, dh_list), lambda h, dh: h + dt * dh)\n",
    "\n",
    "def euler_step(func, dt, state):\n",
    "    return euler_update(state, func(state), dt)"
   ]
  },
  {
   "cell_type": "code",
   "execution_count": 8,
   "metadata": {
    "collapsed": true
   },
   "outputs": [],
   "source": [
    "import adjoint_ode"
   ]
  },
  {
   "cell_type": "markdown",
   "metadata": {},
   "source": [
    "Рассмотрим дифур: $r''=-r$\n",
    "\n",
    "Запишем его в виде:\n",
    "$$v'=-r$$\n",
    "$$r'=v$$"
   ]
  },
  {
   "cell_type": "code",
   "execution_count": 9,
   "metadata": {
    "collapsed": true
   },
   "outputs": [],
   "source": [
    "class ODE_equation(nn.Module):\n",
    "    \n",
    "    def forward(self, inputs):\n",
    "        t, state = inputs\n",
    "        r_vec, v_vec = state[:2], state[2:] \n",
    "        \n",
    "        return torch.cat([v_vec, -r_vec])"
   ]
  },
  {
   "cell_type": "code",
   "execution_count": 10,
   "metadata": {
    "collapsed": true
   },
   "outputs": [],
   "source": [
    "num_steps = 1000\n",
    "v0 = torch.Tensor([1., 1.])\n",
    "r0 = torch.Tensor([1., 0.])\n",
    "init_state = torch.cat([r0, v0], 0)"
   ]
  },
  {
   "cell_type": "code",
   "execution_count": 11,
   "metadata": {},
   "outputs": [],
   "source": [
    "neural_ode = adjoint_ode.AdjointODE(ode_model=ODE_equation(), timestamps=np.linspace(0., 10, 100), ode_solver=euler_step)"
   ]
  },
  {
   "cell_type": "markdown",
   "metadata": {},
   "source": [
    "## 1. Решим система методом Эйлера"
   ]
  },
  {
   "cell_type": "code",
   "execution_count": 12,
   "metadata": {
    "collapsed": true
   },
   "outputs": [],
   "source": [
    "states_history = neural_ode.forward(init_state)"
   ]
  },
  {
   "cell_type": "code",
   "execution_count": 13,
   "metadata": {},
   "outputs": [
    {
     "data": {
      "text/plain": [
       "(100, 4)"
      ]
     },
     "execution_count": 13,
     "metadata": {},
     "output_type": "execute_result"
    }
   ],
   "source": [
    "trajectory = np.stack(states_history)\n",
    "trajectory.shape"
   ]
  },
  {
   "cell_type": "code",
   "execution_count": 14,
   "metadata": {
    "collapsed": true
   },
   "outputs": [],
   "source": [
    "# Function for plotting the trajectory\n",
    "def plot_trajectory(trajectories, labels):\n",
    "    for trajectory, label in zip(trajectories, labels):\n",
    "        plt.plot(*trajectory[:, :2].T, label=label)\n",
    "        \n",
    "    n = trajectory.shape[0]\n",
    "    plt.plot(np.linspace(-2, 2, n), np.zeros(n), 'k-')\n",
    "    plt.plot(np.zeros(n), np.linspace(-2, 2, n), 'k-')\n",
    "    plt.plot(0, 2, 'rx', label='target', lw=20)\n",
    "    plt.xlabel(\"x\")\n",
    "    plt.ylabel(\"y\")\n",
    "    plt.axis(\"equal\")\n",
    "    plt.legend()\n",
    "    plt.show()"
   ]
  },
  {
   "cell_type": "code",
   "execution_count": 15,
   "metadata": {},
   "outputs": [
    {
     "data": {
      "image/png": "[encoded data removed]",
      "text/plain": [
       "<Figure size 432x288 with 1 Axes>"
      ]
     },
     "metadata": {},
     "output_type": "display_data"
    }
   ],
   "source": [
    "plot_trajectory([trajectory], [\"initial\"])"
   ]
  },
  {
   "cell_type": "markdown",
   "metadata": {},
   "source": [
    "Зададим финальную точку траектории"
   ]
  },
  {
   "cell_type": "code",
   "execution_count": 16,
   "metadata": {
    "collapsed": true
   },
   "outputs": [],
   "source": [
    "v0 = torch.Tensor([1., 1.])\n",
    "r0 = torch.Tensor([0., 2.])\n",
    "target_state = torch.cat([r0, v0], 0)"
   ]
  },
  {
   "cell_type": "code",
   "execution_count": 17,
   "metadata": {},
   "outputs": [],
   "source": [
    "neural_ode = adjoint_ode.AdjointODE(ode_model=ODE_equation(), timestamps=np.linspace(0., 10, 100), ode_solver=euler_step)"
   ]
  },
  {
   "cell_type": "code",
   "execution_count": 18,
   "metadata": {},
   "outputs": [
    {
     "data": {
      "text/plain": [
       "tensor([1., 0., 1., 1.], requires_grad=True)"
      ]
     },
     "execution_count": 18,
     "metadata": {},
     "output_type": "execute_result"
    }
   ],
   "source": [
    "start_state = torch.Tensor(init_state)\n",
    "start_state.requires_grad_(True)"
   ]
  },
  {
   "cell_type": "markdown",
   "metadata": {},
   "source": [
    "## 2. Оптимизируем обычным градиентным спуском"
   ]
  },
  {
   "cell_type": "code",
   "execution_count": 19,
   "metadata": {},
   "outputs": [
    {
     "name": "stderr",
     "output_type": "stream",
     "text": [
      "100%|██████████| 1000/1000 [00:11<00:00, 86.41it/s]\n"
     ]
    }
   ],
   "source": [
    "loss_history = []\n",
    "for step in tqdm(range(1000)):\n",
    "    end_state = neural_ode.forward(start_state)[-1]\n",
    "    loss = torch.sum((end_state[:2] - target_state[:2])**2)        \n",
    "    dLoss = torch.autograd.grad(loss, start_state)[0]\n",
    "    dLoss = torch.Tensor([0, 0, dLoss[2], dLoss[3]])    \n",
    "    start_state = start_state - 0.01*dLoss\n",
    "    loss_history.append(loss)"
   ]
  },
  {
   "cell_type": "code",
   "execution_count": 20,
   "metadata": {},
   "outputs": [],
   "source": [
    "opt_states_history = neural_ode.forward(start_state)\n",
    "opt_states_history = torch.stack(opt_states_history).detach().numpy()\n",
    "opt_trajectory = np.stack(opt_states_history)"
   ]
  },
  {
   "cell_type": "code",
   "execution_count": 21,
   "metadata": {},
   "outputs": [
    {
     "data": {
      "image/png": "[encoded data removed]",
      "text/plain": [
       "<Figure size 432x288 with 1 Axes>"
      ]
     },
     "metadata": {},
     "output_type": "display_data"
    }
   ],
   "source": [
    "plot_trajectory([trajectory, opt_trajectory], [\"initial\", \"optimized\"])"
   ]
  },
  {
   "cell_type": "markdown",
   "metadata": {},
   "source": [
    "## 3. Обучим по adjoint методу"
   ]
  },
  {
   "cell_type": "code",
   "execution_count": 23,
   "metadata": {},
   "outputs": [],
   "source": [
    "opt_neural_ode = adjoint_ode.AdjointODE(ode_model=ODE_equation(), timestamps=np.linspace(0., 10, 100), ode_solver=euler_step)"
   ]
  },
  {
   "cell_type": "code",
   "execution_count": 24,
   "metadata": {},
   "outputs": [
    {
     "data": {
      "text/plain": [
       "tensor([1., 0., 1., 1.], requires_grad=True)"
      ]
     },
     "execution_count": 24,
     "metadata": {},
     "output_type": "execute_result"
    }
   ],
   "source": [
    "start_state = torch.Tensor(init_state)\n",
    "start_state.requires_grad_(True)"
   ]
  },
  {
   "cell_type": "code",
   "execution_count": 31,
   "metadata": {
    "scrolled": true
   },
   "outputs": [
    {
     "name": "stderr",
     "output_type": "stream",
     "text": [
      "100%|██████████| 100/100 [00:15<00:00,  6.63it/s]\n"
     ]
    }
   ],
   "source": [
    "loss_history = []\n",
    "for step in tqdm(range(100)):\n",
    "    end_state = opt_neural_ode.forward(start_state)[-1]\n",
    "    end_position = end_state[:2]\n",
    "    target_position = target_state[:2]\n",
    "    loss = torch.sum((end_position - target_position)**2)\n",
    "    dLoss = torch.autograd.grad(loss, end_state)[0]\n",
    "    \n",
    "    h_start, dfdh0, dWeights = opt_neural_ode.backward(end_state, dLoss)\n",
    "    dLoss = torch.Tensor([0.0, 0.0, dfdh0[2], dfdh0[3]])\n",
    "    start_state = start_state + 0.05*dLoss\n",
    "    loss_history.append(loss)"
   ]
  },
  {
   "cell_type": "code",
   "execution_count": 32,
   "metadata": {},
   "outputs": [],
   "source": [
    "opt_states_history = neural_ode.forward(start_state)\n",
    "opt_states_history = torch.stack(opt_states_history).detach().numpy()\n",
    "opt_trajectory = np.stack(opt_states_history)"
   ]
  },
  {
   "cell_type": "code",
   "execution_count": 33,
   "metadata": {},
   "outputs": [
    {
     "data": {
      "image/png": "[encoded data removed]",
      "text/plain": [
       "<Figure size 432x288 with 1 Axes>"
      ]
     },
     "metadata": {},
     "output_type": "display_data"
    }
   ],
   "source": [
    "plot_trajectory([trajectory, opt_trajectory], [\"initial\", \"optimized\"])"
   ]
  },
  {
   "cell_type": "code",
   "execution_count": null,
   "metadata": {
    "collapsed": true
   },
   "outputs": [],
   "source": []
  }
 ],
 "metadata": {
  "kernelspec": {
   "display_name": "Python 3",
   "language": "python",
   "name": "python3"
  },
  "language_info": {
   "codemirror_mode": {
    "name": "ipython",
    "version": 3
   },
   "file_extension": ".py",
   "mimetype": "text/x-python",
   "name": "python",
   "nbconvert_exporter": "python",
   "pygments_lexer": "ipython3",
   "version": "3.6.2"
  }
 },
 "nbformat": 4,
 "nbformat_minor": 2
}
